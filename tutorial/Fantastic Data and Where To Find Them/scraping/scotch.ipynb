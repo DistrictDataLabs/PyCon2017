{
 "cells": [
  {
   "cell_type": "markdown",
   "metadata": {},
   "source": [
    "## Scotch\n",
    "\n",
    "The scraping notebook walked through some basic web scraping with html that was fairly straightforward and well behaved to show you the basics of the involved libraries. And there are a lot of nicely written tutorials on the web where you can see a polished version of what people did for scraping. But the question I was struggling with while putting this together was how do you really teach someone to scrape? And what is a good site to teach with?\n",
    "\n",
    "While I was thinking about it, I recieved the weekly email from one of my favorite online retailers, [Drink Up NY](http://www.drinkupny.com/Default.asp). Since I am quite fond of their inventory and I had scraping on the brain, I thought I would see if I could scrape the data (and I didn't see any good reason [why I shouldn't](http://www.drinkupny.com/robots.txt)). As I was playing around with this notebook I thought it might be a good way to demonstrate a thought process for approaching scraping. This is not a definitive way to scrape, it is just the way *I* approached *this* page sitting around on my couch the week before this tutorial. Like anything in Python, there are a lot of ways to accomplish something. \n",
    "\n",
    "I can read and write some html and I have broken some CSS on WordPress before, but I am not a web dev. I would call myself barely competent in that realm. If I were, I imagine this would go a lot faster sometimes. I do like tinkering around and trying things though, so that is how I approach scraping and what I will demonstrate here.\n",
    "\n",
    "So, let's see what is going on with Scotch prices on Drink Up NY!"
   ]
  },
  {
   "cell_type": "code",
   "execution_count": null,
   "metadata": {
    "collapsed": true
   },
   "outputs": [],
   "source": [
    "import requests\n",
    "from bs4 import BeautifulSoup"
   ]
  },
  {
   "cell_type": "markdown",
   "metadata": {},
   "source": [
    "I am using [requests](http://docs.python-requests.org/en/master/) here, but I could have just as easily used [urllib](https://docs.python.org/3.5/library/urllib.html). \n",
    "\n",
    "First, we need to get the page. If you navigate around the [Drink Up NY](http://www.drinkupny.com/Default.asp) site a bit, you can see they have a lot of drop down menus. I am just intereted in the [Scotch](https://www.drinkupny.com/single-malt-scotch-whisky-s/77.htm) page right now. I navigated here through the \"SPIRITS ETC\" - \"Whisk(e)y\" - \"Scotch Whisky\" links. For scraping, I am going to change the \"per page\" option to \"120 per page\" so I have everything on one page."
   ]
  },
  {
   "cell_type": "code",
   "execution_count": null,
   "metadata": {
    "collapsed": true
   },
   "outputs": [],
   "source": [
    "html_file = \"https://www.drinkupny.com/single-malt-scotch-whisky-s/77.htm?searching=Y&sort=9&cat=77&show=120&page=1\"\n",
    "html_rpt = requests.get(html_file)"
   ]
  },
  {
   "cell_type": "code",
   "execution_count": null,
   "metadata": {},
   "outputs": [],
   "source": [
    "if html_rpt.status_code == 200:\n",
    "    print(html_rpt.content)\n",
    "else:\n",
    "    print(html_rpt.status_code)"
   ]
  },
  {
   "cell_type": "markdown",
   "metadata": {},
   "source": [
    "It worked. Let's parse and prettify it."
   ]
  },
  {
   "cell_type": "code",
   "execution_count": null,
   "metadata": {},
   "outputs": [],
   "source": [
    "soup = BeautifulSoup(html_rpt.content, 'html.parser')\n",
    "print(soup.prettify())"
   ]
  },
  {
   "cell_type": "markdown",
   "metadata": {},
   "source": [
    "Now let's take a look through the structure and find the data. "
   ]
  },
  {
   "cell_type": "code",
   "execution_count": null,
   "metadata": {
    "scrolled": true
   },
   "outputs": [],
   "source": [
    "# I wouldn't expect my data to be here, but there is some metadata if we want it.\n",
    "soup.head"
   ]
  },
  {
   "cell_type": "code",
   "execution_count": null,
   "metadata": {
    "scrolled": true
   },
   "outputs": [],
   "source": [
    "soup.body"
   ]
  },
  {
   "cell_type": "markdown",
   "metadata": {},
   "source": [
    "We can certainly pull a lot of links easily with their navigation system. Here is one way."
   ]
  },
  {
   "cell_type": "code",
   "execution_count": null,
   "metadata": {},
   "outputs": [],
   "source": [
    "for link in soup.find_all('a'):\n",
    "    print(link.get('href'))"
   ]
  },
  {
   "cell_type": "markdown",
   "metadata": {},
   "source": [
    "It looks like there are a few tables in there as well."
   ]
  },
  {
   "cell_type": "code",
   "execution_count": null,
   "metadata": {
    "scrolled": true
   },
   "outputs": [],
   "source": [
    "soup.body.table"
   ]
  },
  {
   "cell_type": "code",
   "execution_count": null,
   "metadata": {},
   "outputs": [],
   "source": [
    "len(soup.find_all('table'))"
   ]
  },
  {
   "cell_type": "markdown",
   "metadata": {},
   "source": [
    "The Scotch data I want is probably in one of those 12 tables. "
   ]
  },
  {
   "cell_type": "code",
   "execution_count": null,
   "metadata": {
    "scrolled": true
   },
   "outputs": [],
   "source": [
    "soup.find_all('table')[0]"
   ]
  },
  {
   "cell_type": "markdown",
   "metadata": {},
   "source": [
    "Nope, that's not it."
   ]
  },
  {
   "cell_type": "code",
   "execution_count": null,
   "metadata": {},
   "outputs": [],
   "source": [
    "soup.find_all('table')[1]"
   ]
  },
  {
   "cell_type": "markdown",
   "metadata": {},
   "source": [
    "Nope, not there either."
   ]
  },
  {
   "cell_type": "code",
   "execution_count": null,
   "metadata": {},
   "outputs": [],
   "source": [
    "soup.find_all('table')[2]"
   ]
  },
  {
   "cell_type": "markdown",
   "metadata": {},
   "source": [
    "BINGO! Where we have tables, we have rows. "
   ]
  },
  {
   "cell_type": "code",
   "execution_count": null,
   "metadata": {
    "scrolled": true
   },
   "outputs": [],
   "source": [
    "soup.find_all('table')[2].tr"
   ]
  },
  {
   "cell_type": "markdown",
   "metadata": {},
   "source": [
    "That wasn't overly useful. We do have some nice looking CSS selector options though like this:\n",
    "```<div class=\"v-product\">```"
   ]
  },
  {
   "cell_type": "code",
   "execution_count": null,
   "metadata": {},
   "outputs": [],
   "source": [
    "len(soup.select(\".v-product\"))"
   ]
  },
  {
   "cell_type": "markdown",
   "metadata": {},
   "source": [
    "65 items for that selector. And 65 bottles on the page. That could be it. \n",
    "\n",
    "When we use select, Beautiful Soup gives us a list. So let's look at the list elements."
   ]
  },
  {
   "cell_type": "code",
   "execution_count": null,
   "metadata": {
    "scrolled": true
   },
   "outputs": [],
   "source": [
    "soup.select(\".v-product\")[0]"
   ]
  },
  {
   "cell_type": "markdown",
   "metadata": {},
   "source": [
    "So when we use the CSS selector, we get a list where each item in the list is one of our scotch listings. How can we pull some meaning full data from that? I would like to get the name, link to the product, and the pricing info. Let's get one item to work with so we can try to parse this out. "
   ]
  },
  {
   "cell_type": "code",
   "execution_count": null,
   "metadata": {
    "collapsed": true,
    "scrolled": true
   },
   "outputs": [],
   "source": [
    "table = soup.select(\".v-product\")"
   ]
  },
  {
   "cell_type": "code",
   "execution_count": null,
   "metadata": {},
   "outputs": [],
   "source": [
    "table[0]"
   ]
  },
  {
   "cell_type": "code",
   "execution_count": null,
   "metadata": {},
   "outputs": [],
   "source": [
    "table[1]"
   ]
  },
  {
   "cell_type": "code",
   "execution_count": null,
   "metadata": {},
   "outputs": [],
   "source": [
    "scotch = table[0]\n",
    "scotch"
   ]
  },
  {
   "cell_type": "code",
   "execution_count": null,
   "metadata": {},
   "outputs": [],
   "source": [
    "scotch.a"
   ]
  },
  {
   "cell_type": "code",
   "execution_count": null,
   "metadata": {
    "collapsed": true
   },
   "outputs": [],
   "source": [
    "scotch.a.string"
   ]
  },
  {
   "cell_type": "code",
   "execution_count": null,
   "metadata": {},
   "outputs": [],
   "source": [
    "scotch.a.text"
   ]
  },
  {
   "cell_type": "markdown",
   "metadata": {},
   "source": [
    "None of that is particularly useful. Let's try working with the CSS selectors again."
   ]
  },
  {
   "cell_type": "code",
   "execution_count": null,
   "metadata": {},
   "outputs": [],
   "source": [
    "scotch.select(\".v-product__title\")"
   ]
  },
  {
   "cell_type": "code",
   "execution_count": null,
   "metadata": {},
   "outputs": [],
   "source": [
    "scotch.select(\".v-product__title\").text"
   ]
  },
  {
   "cell_type": "markdown",
   "metadata": {},
   "source": [
    "Ooops. Remember select returns a list."
   ]
  },
  {
   "cell_type": "code",
   "execution_count": null,
   "metadata": {},
   "outputs": [],
   "source": [
    "scotch.select(\".v-product__title\")[0].text"
   ]
  },
  {
   "cell_type": "markdown",
   "metadata": {},
   "source": [
    "Now we are getting somewhere."
   ]
  },
  {
   "cell_type": "code",
   "execution_count": null,
   "metadata": {},
   "outputs": [],
   "source": [
    "scotch.select(\".product_productprice\")[0]"
   ]
  },
  {
   "cell_type": "code",
   "execution_count": null,
   "metadata": {},
   "outputs": [],
   "source": [
    "scotch.select(\".product_productprice\")[0].text"
   ]
  },
  {
   "cell_type": "code",
   "execution_count": null,
   "metadata": {},
   "outputs": [],
   "source": [
    "scotch.select(\".product_saleprice\")[0].text"
   ]
  },
  {
   "cell_type": "code",
   "execution_count": null,
   "metadata": {},
   "outputs": [],
   "source": [
    "scotch.select(\".product_listprice\")[0].text"
   ]
  },
  {
   "cell_type": "markdown",
   "metadata": {},
   "source": [
    "Now what about the product link?"
   ]
  },
  {
   "cell_type": "code",
   "execution_count": null,
   "metadata": {},
   "outputs": [],
   "source": [
    "scotch.select(\".v-product__title\")[0].get('href')"
   ]
  },
  {
   "cell_type": "markdown",
   "metadata": {},
   "source": [
    "That's it!  [https://www.drinkupny.com/Aberlour-a-bunadh-p/s0958.htm](https://www.drinkupny.com/Aberlour-a-bunadh-p/s0958.htm)"
   ]
  },
  {
   "cell_type": "markdown",
   "metadata": {},
   "source": [
    "Now we can manipulate our strings a bit to strip off the parts we don't want."
   ]
  },
  {
   "cell_type": "code",
   "execution_count": null,
   "metadata": {},
   "outputs": [],
   "source": [
    "scotch.select(\".v-product__title\")[0].text.split('\\n', 1)[1]"
   ]
  },
  {
   "cell_type": "code",
   "execution_count": null,
   "metadata": {},
   "outputs": [],
   "source": [
    "scotch.select(\".v-product__title\")[0].text.split('\\n', 1)[1].strip()"
   ]
  },
  {
   "cell_type": "code",
   "execution_count": null,
   "metadata": {},
   "outputs": [],
   "source": [
    "scotch.select(\".v-product__title\")[0].text.strip()"
   ]
  },
  {
   "cell_type": "code",
   "execution_count": null,
   "metadata": {},
   "outputs": [],
   "source": [
    "scotch.select(\".product_productprice\")[0].text.split('$', 1)[1]"
   ]
  },
  {
   "cell_type": "code",
   "execution_count": null,
   "metadata": {},
   "outputs": [],
   "source": [
    "scotch.select(\".product_productprice\")[0].text.split('$', 1)[1].strip()"
   ]
  },
  {
   "cell_type": "code",
   "execution_count": null,
   "metadata": {},
   "outputs": [],
   "source": [
    "scotch.select(\".product_saleprice\")[0].text.split('$', 1)[1].strip()"
   ]
  },
  {
   "cell_type": "code",
   "execution_count": null,
   "metadata": {},
   "outputs": [],
   "source": [
    "scotch.select(\".product_listprice\")[0].text.split('$', 1)[1].strip()"
   ]
  },
  {
   "cell_type": "markdown",
   "metadata": {},
   "source": [
    "Let's pull it all together and see if it works for parsing all of the data."
   ]
  },
  {
   "cell_type": "code",
   "execution_count": null,
   "metadata": {},
   "outputs": [],
   "source": [
    "len(table)"
   ]
  },
  {
   "cell_type": "code",
   "execution_count": null,
   "metadata": {
    "collapsed": true
   },
   "outputs": [],
   "source": [
    "import pandas as pd"
   ]
  },
  {
   "cell_type": "code",
   "execution_count": null,
   "metadata": {
    "collapsed": true
   },
   "outputs": [],
   "source": [
    "i = 0\n",
    "column_names = ['name', 'url', 'regular_price', 'our_price', 'sale_price']\n",
    "\n",
    "df = pd.DataFrame(columns = column_names)"
   ]
  },
  {
   "cell_type": "code",
   "execution_count": null,
   "metadata": {
    "collapsed": true
   },
   "outputs": [],
   "source": [
    "while i < len(table):\n",
    "    new_scotch = pd.Series([table[i].select(\".v-product__title\")[0].text.strip(), \\\n",
    "                                 table[i].select(\".v-product__title\")[0].get('href'), \\\n",
    "                                 table[i].select(\".product_listprice\")[0].text.split('$', 1)[1], \\\n",
    "                                 table[i].select(\".product_productprice\")[0].text.split('$', 1)[1], \\\n",
    "                                 table[i].select(\".product_saleprice\")[0].text.split('$', 1)[1]], column_names)\n",
    "    df = df.append(new_scotch, ignore_index = True)\n",
    "    i += 1"
   ]
  },
  {
   "cell_type": "markdown",
   "metadata": {},
   "source": [
    "No errors, so that is a good sign. Can we now can easily compare Scotch prices?"
   ]
  },
  {
   "cell_type": "code",
   "execution_count": null,
   "metadata": {},
   "outputs": [],
   "source": [
    "df"
   ]
  },
  {
   "cell_type": "markdown",
   "metadata": {},
   "source": [
    "If you went through this notebook instead of trying a page you wanted to scrape, I fully expect you to go try and scrape your own page now!"
   ]
  },
  {
   "cell_type": "markdown",
   "metadata": {
    "collapsed": true
   },
   "source": [
    "If you are interested in working with [scrapy](https://doc.scrapy.org/en/latest/index.html), I highly recommend starting with the [tutorial](https://doc.scrapy.org/en/latest/intro/tutorial.html). I have provided a [scrapy sample](./scrapy/scotch) that uses scrapy to begin pulling data from the site utilized here."
   ]
  },
  {
   "cell_type": "code",
   "execution_count": null,
   "metadata": {
    "collapsed": true
   },
   "outputs": [],
   "source": []
  }
 ],
 "metadata": {
  "anaconda-cloud": {},
  "kernelspec": {
   "display_name": "Python 3",
   "language": "python",
   "name": "python3"
  },
  "language_info": {
   "codemirror_mode": {
    "name": "ipython",
    "version": 3
   },
   "file_extension": ".py",
   "mimetype": "text/x-python",
   "name": "python",
   "nbconvert_exporter": "python",
   "pygments_lexer": "ipython3",
   "version": "3.5.3"
  }
 },
 "nbformat": 4,
 "nbformat_minor": 2
}
